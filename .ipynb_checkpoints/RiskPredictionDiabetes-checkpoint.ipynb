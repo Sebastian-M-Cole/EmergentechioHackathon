{
 "cells": [
  {
   "cell_type": "code",
   "execution_count": null,
   "metadata": {
    "collapsed": false
   },
   "outputs": [
    {
     "name": "stderr",
     "output_type": "stream",
     "text": [
      "/home/sebastian/.local/lib/python3.5/site-packages/fuzzywuzzy/fuzz.py:35: UserWarning: Using slow pure-python SequenceMatcher. Install python-Levenshtein to remove this warning\n",
      "  warnings.warn('Using slow pure-python SequenceMatcher. Install python-Levenshtein to remove this warning')\n"
     ]
    }
   ],
   "source": [
    "import datreant.core as dtr\n",
    "import pandas as pd\n",
    "import seaborn as sns\n",
    "import numpy as np\n",
    "import matplotlib.pylab as plt\n",
    "import re\n",
    "\n",
    "diabT = dtr.Tree('./Diabetes/multivariateTimeIntCat/')\n",
    "dataCount = 1\n",
    "for value in diabT.leaves:\n",
    "    if 'data-' in str(value):\n",
    "        df = pd.read_csv(str(value), sep='\\t', names =['Date', 'Time', 'Code', 'Measurement'])\n",
    "\n",
    "        codeVals = [33,34,35,48,57,58,59,60,61,62,63,64,65,66,67,68,69,70,71,72]\n",
    "        \n",
    "        df1 = df.sort_values(by=['Code', 'Measurement'],ascending=[False,True])\n",
    "        del(df)\n",
    "        \n",
    "        Date = df1['Date']\n",
    "        Time = df1['Time']\n",
    "        Code = df1['Code']\n",
    "        Measurement = df1['Measurement']\n",
    "        del(df1)\n",
    "               \n",
    "        \n",
    "        convTime = []\n",
    "        measurement = []\n",
    "        codes = []\n",
    "                       \n",
    "        count = 0\n",
    "        for time in Time:\n",
    "            if Measurement[count] == '0Hi' or Measurement[count] == '0Lo':\n",
    "                continue\n",
    "            try:\n",
    "                index = time.find(':')\n",
    "            except AttributeError:\n",
    "                continue\n",
    "            hour = int(time[0:index])\n",
    "            minutes = int(time[index+1:])/60.0\n",
    "            convTime.append(hour + minutes)\n",
    "            measurement.append(float(Measurement[count])) \n",
    "            codes.append(Code[count])\n",
    "            count += 1\n",
    "        \n",
    "        del(Time)\n",
    "        del(Code)\n",
    "        del(Measurement)\n",
    "        \n",
    "        %matplotlib inline\n",
    "        fig, axs = plt.subplots(5, 4, sharex=True, sharey=True)\n",
    "        \n",
    "        colNum = 0\n",
    "        rowNum = 0\n",
    "        for codeVal in codeVals:\n",
    "            convTimeTmp = []\n",
    "            measurementTmp = []\n",
    "            for i in np.where(np.array(codes) == codeVal)[0]:\n",
    "                    convTimeTmp.append(convTime[i])\n",
    "                    measurementTmp.append(measurement[i])\n",
    "            axs[colNum,rowNum].scatter(convTimeTmp,measurementTmp)\n",
    "            colNum += 1\n",
    "            if colNum == 5:\n",
    "                colNum = 0\n",
    "                rowNum += 1\n",
    "            plt.savefig(\"PlotData-%i.pdf\"%dataCount)\n",
    "    else:\n",
    "        continue\n",
    "    \n",
    "    dataCount+=1"
   ]
  },
  {
   "cell_type": "code",
   "execution_count": null,
   "metadata": {
    "collapsed": true
   },
   "outputs": [],
   "source": []
  },
  {
   "cell_type": "code",
   "execution_count": null,
   "metadata": {
    "collapsed": true
   },
   "outputs": [],
   "source": []
  }
 ],
 "metadata": {
  "kernelspec": {
   "display_name": "Python 3",
   "language": "python",
   "name": "python3"
  },
  "language_info": {
   "codemirror_mode": {
    "name": "ipython",
    "version": 3
   },
   "file_extension": ".py",
   "mimetype": "text/x-python",
   "name": "python",
   "nbconvert_exporter": "python",
   "pygments_lexer": "ipython3",
   "version": "3.5.2"
  }
 },
 "nbformat": 4,
 "nbformat_minor": 2
}
