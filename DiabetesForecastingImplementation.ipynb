{
 "cells": [
  {
   "cell_type": "code",
   "execution_count": null,
   "metadata": {
    "collapsed": false
   },
   "outputs": [
    {
     "name": "stdout",
     "output_type": "stream",
     "text": [
      "/home/sebastian/LocalAnalysis/EmergentechIOHackathon/PatientData/patient-19/data-19\n",
      "/home/sebastian/LocalAnalysis/EmergentechIOHackathon/PatientData/patient-26/data-26\n"
     ]
    }
   ],
   "source": [
    "from RiskPredictionDiabetes import *\n",
    "import datreant.core as dtr\n",
    "import re\n",
    "import shutil\n",
    "import os\n",
    "\n",
    "import warnings\n",
    "warnings.filterwarnings('ignore')\n",
    "\n",
    "patientData = dtr.Tree('./PatientData/')\n",
    "patientTreant = dtr.discover('./PatientData')\n",
    "for patient in patientTreant:\n",
    "    for leaf in patient.leaves:\n",
    "        if 'json' not in str(leaf) and 'pdf' not in str(leaf):\n",
    "            print(str(leaf))\n",
    "            patientData = PatientData('%s'%str(leaf))\n",
    "            patientData.DataSplit()\n",
    "            patientData.TimeSeriesPlots()\n",
    "            patientData.autocorrelationPlots()\n",
    "            p_values = [0, 1, 2, 4, 6, 8, 10]\n",
    "            d_values = range(0, 3)\n",
    "            q_values = range(0, 3)\n",
    "            err_least = float(\"inf\")\n",
    "            for p in p_values:\n",
    "                for d in d_values:\n",
    "                    for q in q_values:\n",
    "                        order = (p,d,q)\n",
    "                        try:\n",
    "                            patientData.order = order\n",
    "                            patientData.ApplyArima()\n",
    "                        except:\n",
    "                            pass\n",
    "                        \n",
    "            patient.categories['BestOrder'] = '(%i,%i,%i)'%(patientData.best_order[0],patientData.best_order[1],patientData.best_order[2])\n",
    "    \n",
    "    \n"
   ]
  },
  {
   "cell_type": "code",
   "execution_count": 1,
   "metadata": {
    "collapsed": false
   },
   "outputs": [],
   "source": [
    "from RiskPredictionDiabetes import *\n",
    "\n",
    "patientData = PatientData('/home/sebastian/LocalAnalysis/EmergentechIOHackathon/PatientData/patient-19/data-19')\n",
    "\n",
    "patientData.ArimaForeCast((4,1,0))"
   ]
  },
  {
   "cell_type": "code",
   "execution_count": null,
   "metadata": {
    "collapsed": true
   },
   "outputs": [],
   "source": []
  }
 ],
 "metadata": {
  "kernelspec": {
   "display_name": "Python 3",
   "language": "python",
   "name": "python3"
  },
  "language_info": {
   "codemirror_mode": {
    "name": "ipython",
    "version": 3
   },
   "file_extension": ".py",
   "mimetype": "text/x-python",
   "name": "python",
   "nbconvert_exporter": "python",
   "pygments_lexer": "ipython3",
   "version": "3.5.2"
  }
 },
 "nbformat": 4,
 "nbformat_minor": 2
}
